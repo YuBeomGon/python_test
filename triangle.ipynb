{
 "cells": [
  {
   "cell_type": "code",
   "execution_count": null,
   "metadata": {},
   "outputs": [],
   "source": [
    "# https://programmers.co.kr/learn/courses/30/lessons/43105\n",
    "# dynamic programming excersize\n",
    "# triangle [[7], [3, 8], [8, 1, 0], [2, 7, 4, 4], [4, 5, 2, 6, 5]], result : 30"
   ]
  },
  {
   "cell_type": "code",
   "execution_count": 36,
   "metadata": {},
   "outputs": [],
   "source": [
    "def solution(triangle):\n",
    "\n",
    "    for i in range(len(triangle)) :\n",
    "        triangle[i].insert(0,0)\n",
    "        triangle[i].append(0)\n",
    "    triangle.insert(0,[0])\n",
    "    print(triangle)\n",
    "    arr = [[0]*len(n) for n in triangle]\n",
    "#     print(arr)    \n",
    "\n",
    "#     for i in range(len(triangle)) :\n",
    "#         for j in range(i) :\n",
    "#             arr[i][j] = 0 \n",
    "    arr[0][0] = triangle[0][0]\n",
    "    arr[1] = triangle[1]\n",
    "    for i in range(2, len(arr)) :\n",
    "        for j in range(0, i+1) :\n",
    "            arr[i][j] = max(arr[i-1][j-1], arr[i-1][j]) + triangle[i][j]\n",
    "#             print(arr[i][j])\n",
    "    \n",
    "    answer = max(arr[len(triangle)-1])\n",
    "    print(arr)\n",
    "    return answer"
   ]
  },
  {
   "cell_type": "code",
   "execution_count": 37,
   "metadata": {},
   "outputs": [
    {
     "name": "stdout",
     "output_type": "stream",
     "text": [
      "[[0], [0, 7, 0], [0, 3, 8, 0], [0, 8, 1, 0, 0], [0, 2, 7, 4, 4, 0], [0, 4, 5, 2, 6, 5, 0]]\n",
      "[[0], [0, 7, 0], [0, 10, 15, 0], [0, 18, 16, 15, 0], [0, 20, 25, 20, 19, 0], [0, 24, 30, 27, 26, 24, 0]]\n"
     ]
    },
    {
     "data": {
      "text/plain": [
       "30"
      ]
     },
     "execution_count": 37,
     "metadata": {},
     "output_type": "execute_result"
    }
   ],
   "source": [
    "triangle = [[7], [3, 8], [8, 1, 0], [2, 7, 4, 4], [4, 5, 2, 6, 5]]\n",
    "# [len(i) for i in triangle]\n",
    "solution(triangle)\n",
    "\n",
    "\n"
   ]
  },
  {
   "cell_type": "code",
   "execution_count": 54,
   "metadata": {},
   "outputs": [],
   "source": [
    "# reculsive \n",
    "def solution(triangle):\n",
    "    arr = [[0]*(i) for i in range(1, len(triangle)+1)]\n",
    "    ans_list = []\n",
    "    \n",
    "    def cal_sum(tri, i, j) :\n",
    "#         print(i)\n",
    "#         print(j)\n",
    "        if arr[i][j] != 0:\n",
    "            return arr[i][j]\n",
    "        else :\n",
    "            if i == 0 :\n",
    "                return triangle[0][0]\n",
    "            if j == 0:\n",
    "                arr[i][j] = cal_sum(tri, i-1, j) + tri[i][j]\n",
    "            elif j == i :\n",
    "                arr[i][j] = cal_sum(tri, i-1, j-1) + tri[i][j]\n",
    "            else :\n",
    "                arr[i][j] = max(cal_sum(tri, i-1, j-1), cal_sum(tri, i-1, j)) + tri[i][j]\n",
    "            return arr[i][j]\n",
    "        \n",
    "    for i in range(len(triangle)-1) :\n",
    "        ans_list.append(cal_sum(triangle, len(triangle)-1, i))\n",
    "    print(ans_list)\n",
    "\n",
    "    return max(ans_list)"
   ]
  },
  {
   "cell_type": "code",
   "execution_count": 55,
   "metadata": {},
   "outputs": [
    {
     "name": "stdout",
     "output_type": "stream",
     "text": [
      "[24, 30, 27, 26]\n"
     ]
    },
    {
     "data": {
      "text/plain": [
       "30"
      ]
     },
     "execution_count": 55,
     "metadata": {},
     "output_type": "execute_result"
    }
   ],
   "source": [
    "triangle = [[7], [3, 8], [8, 1, 0], [2, 7, 4, 4], [4, 5, 2, 6, 5]]\n",
    "solution(triangle)"
   ]
  },
  {
   "cell_type": "code",
   "execution_count": null,
   "metadata": {},
   "outputs": [],
   "source": []
  }
 ],
 "metadata": {
  "kernelspec": {
   "display_name": "Python 3",
   "language": "python",
   "name": "python3"
  },
  "language_info": {
   "codemirror_mode": {
    "name": "ipython",
    "version": 3
   },
   "file_extension": ".py",
   "mimetype": "text/x-python",
   "name": "python",
   "nbconvert_exporter": "python",
   "pygments_lexer": "ipython3",
   "version": "3.6.9"
  }
 },
 "nbformat": 4,
 "nbformat_minor": 4
}
