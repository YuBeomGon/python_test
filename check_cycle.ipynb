{
 "cells": [
  {
   "cell_type": "code",
   "execution_count": null,
   "metadata": {},
   "outputs": [],
   "source": []
  },
  {
   "cell_type": "code",
   "execution_count": null,
   "metadata": {},
   "outputs": [],
   "source": [
    "#check cycle in the graph, use DFS algorithm\n",
    "# there are two method for this, using stack, or recursive\n",
    "# https://www.youtube.com/watch?v=BLc3wzvycH8\n",
    "# https://github.com/minsuk-heo/problemsolving/blob/master/graph/dfs.py    "
   ]
  },
  {
   "cell_type": "code",
   "execution_count": 3,
   "metadata": {},
   "outputs": [],
   "source": [
    "# directed graph\n",
    "gp1 = {0:[1,2], 1:[2], 2:[3,0], 3:[3]}\n",
    "gp2 = {0:[1,2], 1:[2], 2:[3], 3:[]}\n",
    "Heads = []"
   ]
  },
  {
   "cell_type": "code",
   "execution_count": 4,
   "metadata": {},
   "outputs": [],
   "source": [
    "def dfs(graph, start):\n",
    "    nodes = list(graph.keys())\n",
    "    stack = [start]\n",
    "    visited = []\n",
    "    \n",
    "#     while stack :\n",
    "#         current = stack.pop()\n",
    "#         print(current)\n",
    "#         for edge in graph[current] :\n",
    "#             if edge not in visited :\n",
    "#                 stack.append(edge)\n",
    "            \n",
    "#         visited.append(current)\n",
    "#     print(visited)\n",
    "#     return visited\n",
    "    while stack :\n",
    "        current = stack.pop()\n",
    "        print(current)\n",
    "        visited.append(current)\n",
    "        for edge in graph[current] :\n",
    "            if edge not in visited :\n",
    "                stack.append(edge)\n",
    "            elif edge == start :\n",
    "                return True\n",
    "#         visited.append(current)\n",
    "    return False"
   ]
  },
  {
   "cell_type": "code",
   "execution_count": 5,
   "metadata": {},
   "outputs": [
    {
     "name": "stdout",
     "output_type": "stream",
     "text": [
      "{0: [1, 2], 1: [2], 2: [3, 0], 3: [3]}\n"
     ]
    }
   ],
   "source": [
    "print(gp1)"
   ]
  },
  {
   "cell_type": "code",
   "execution_count": 6,
   "metadata": {},
   "outputs": [
    {
     "name": "stdout",
     "output_type": "stream",
     "text": [
      "0\n",
      "2\n"
     ]
    },
    {
     "data": {
      "text/plain": [
       "True"
      ]
     },
     "execution_count": 6,
     "metadata": {},
     "output_type": "execute_result"
    }
   ],
   "source": [
    "dfs(gp1, 0)"
   ]
  },
  {
   "cell_type": "code",
   "execution_count": 7,
   "metadata": {},
   "outputs": [
    {
     "name": "stdout",
     "output_type": "stream",
     "text": [
      "0\n",
      "2\n",
      "3\n",
      "1\n"
     ]
    },
    {
     "data": {
      "text/plain": [
       "False"
      ]
     },
     "execution_count": 7,
     "metadata": {},
     "output_type": "execute_result"
    }
   ],
   "source": [
    "dfs(gp2, 0)"
   ]
  },
  {
   "cell_type": "code",
   "execution_count": null,
   "metadata": {},
   "outputs": [],
   "source": []
  }
 ],
 "metadata": {
  "kernelspec": {
   "display_name": "Python 3",
   "language": "python",
   "name": "python3"
  },
  "language_info": {
   "codemirror_mode": {
    "name": "ipython",
    "version": 3
   },
   "file_extension": ".py",
   "mimetype": "text/x-python",
   "name": "python",
   "nbconvert_exporter": "python",
   "pygments_lexer": "ipython3",
   "version": "3.6.9"
  }
 },
 "nbformat": 4,
 "nbformat_minor": 4
}
