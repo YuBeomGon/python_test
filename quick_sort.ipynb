{
 "cells": [
  {
   "cell_type": "code",
   "execution_count": null,
   "metadata": {},
   "outputs": [],
   "source": [
    "# https://www.daleseo.com/sort-quick/"
   ]
  },
  {
   "cell_type": "code",
   "execution_count": 35,
   "metadata": {},
   "outputs": [],
   "source": [
    "def select_avg(A : list) -> int :\n",
    "    print(sum(A))\n",
    "    print(len(A))\n",
    "    avg = int(sum(A)/len(A))\n",
    "    return avg\n",
    "\n",
    "def select_med(A : list) -> int :\n",
    "    med = int(len(A)/2)\n",
    "    return med\n",
    "\n",
    "# def quick_sort(A :list) -> list:\n",
    "# #     print(A)\n",
    "#     if len(A) <= 1:\n",
    "#         return A    \n",
    "#     pivot = A[len(A) // 2]\n",
    "#     print(pivot)\n",
    "    \n",
    "#     less_arr, eq_arr, gr_arr = [], [], []\n",
    "#     for num in A :\n",
    "#         if num < pivot :\n",
    "#             less_arr.append(num)\n",
    "#         elif num > pivot :\n",
    "#             gr_arr.append(num)\n",
    "#         else :\n",
    "#             eq_arr.append(num)\n",
    "# #     print(less_arr)\n",
    "# #     print(eq_arr)\n",
    "# #     print(gr_arr)\n",
    "    \n",
    "#     return quick_sort(less_arr) + eq_arr + quick_sort(gr_arr)\n",
    "\n",
    "def quick_sort(A :list) -> list:\n",
    "#     print(A)\n",
    "    if len(A) <= 1:\n",
    "        return A    \n",
    "    pivot = A[len(A) // 2]\n",
    "    print(pivot)\n",
    "    \n",
    "    less_arr, eq_arr, gr_arr = [], [], []\n",
    "    for num in A :\n",
    "        if num < pivot :\n",
    "            less_arr.append(num)\n",
    "        elif num > pivot :\n",
    "            gr_arr.append(num)\n",
    "        else :\n",
    "            eq_arr.append(num)\n",
    "#     print(less_arr)\n",
    "#     print(eq_arr)\n",
    "#     print(gr_arr)\n",
    "    \n",
    "    return quick_sort(gr_arr) + eq_arr + quick_sort(less_arr)"
   ]
  },
  {
   "cell_type": "code",
   "execution_count": 36,
   "metadata": {},
   "outputs": [
    {
     "name": "stdout",
     "output_type": "stream",
     "text": [
      "9\n",
      "32\n",
      "11\n",
      "3\n",
      "7\n",
      "5\n",
      "4\n",
      "-4\n"
     ]
    },
    {
     "data": {
      "text/plain": [
       "[44, 32, 11, 11, 10, 9, 9, 9, 8, 7, 7, 7, 7, 6, 5, 4, 4, 3, 1, -4]"
      ]
     },
     "execution_count": 36,
     "metadata": {},
     "output_type": "execute_result"
    }
   ],
   "source": [
    "A = [1, 7, 4, 9, 11,44, 32, 7, -4, 8, 9, 3, 11, 10, 7, 9, 4, 5, 6, 7]\n",
    "quick_sort(A)"
   ]
  },
  {
   "cell_type": "code",
   "execution_count": 11,
   "metadata": {},
   "outputs": [
    {
     "data": {
      "text/plain": [
       "10"
      ]
     },
     "execution_count": 11,
     "metadata": {},
     "output_type": "execute_result"
    }
   ],
   "source": [
    "select_med(A)"
   ]
  },
  {
   "cell_type": "code",
   "execution_count": null,
   "metadata": {},
   "outputs": [],
   "source": []
  }
 ],
 "metadata": {
  "kernelspec": {
   "display_name": "Python 3",
   "language": "python",
   "name": "python3"
  },
  "language_info": {
   "codemirror_mode": {
    "name": "ipython",
    "version": 3
   },
   "file_extension": ".py",
   "mimetype": "text/x-python",
   "name": "python",
   "nbconvert_exporter": "python",
   "pygments_lexer": "ipython3",
   "version": "3.6.9"
  }
 },
 "nbformat": 4,
 "nbformat_minor": 4
}
