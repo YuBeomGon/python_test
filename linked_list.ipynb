{
 "cells": [
  {
   "cell_type": "code",
   "execution_count": 1,
   "metadata": {},
   "outputs": [],
   "source": [
    "class Node :\n",
    "    def __init__(self, data) :\n",
    "        self.data = data\n",
    "        self.next = None\n",
    "        \n",
    "    def add(self, node) :\n",
    "        if self.next is None :\n",
    "            self.next = node\n",
    "        else :\n",
    "            n = self.next\n",
    "            while True :\n",
    "                if n.next is None :\n",
    "                    n.next = node\n",
    "                    break\n",
    "                else :\n",
    "                    n = n.next\n",
    "#         return n\n",
    "                    \n",
    "    def select(self, idx) :\n",
    "        n = self.next\n",
    "        for i in range(idx -1) :\n",
    "            n = n.next\n",
    "        return n.data\n",
    "    \n",
    "    def delete(self, idx) :\n",
    "        n = self.next\n",
    "        for i in range(idx -2) :\n",
    "            n = n.next\n",
    "        t = n.next\n",
    "        n.next = t.next\n",
    "        del t\n",
    "        \n",
    "    def insert(self, idx, node) :\n",
    "        n = self.next\n",
    "        for i in range(idx -2 ):\n",
    "            n = n.next\n",
    "        t = n.next\n",
    "        n.next = node\n",
    "        node.next = t\n",
    "        \n",
    "    def print(self) :\n",
    "        n = self.next\n",
    "        while n.next is not None :\n",
    "            print(n.data)\n",
    "            n = n.next\n"
   ]
  },
  {
   "cell_type": "code",
   "execution_count": 2,
   "metadata": {},
   "outputs": [],
   "source": [
    "input1 = [1,2,4]\n",
    "input2 = [1,3,4]\n"
   ]
  },
  {
   "cell_type": "code",
   "execution_count": null,
   "metadata": {},
   "outputs": [],
   "source": [
    "# Function to insert node \n",
    "def insert(root, item): \n",
    "    temp = Node(item) \n",
    "      \n",
    "    if (root == None): \n",
    "        root = temp \n",
    "    else : \n",
    "        ptr = root \n",
    "        while (ptr.next != None): \n",
    "            ptr = ptr.next\n",
    "        ptr.next = temp \n",
    "      \n",
    "    return root \n",
    "\n",
    "# add list value to linked list\n",
    "root = None\n",
    "for i in input1 :\n",
    "    root = insert(root, i)\n",
    "    \n",
    "#print all    \n",
    "while root != None :\n",
    "    print(root.data)\n",
    "    root = root.next    "
   ]
  },
  {
   "cell_type": "code",
   "execution_count": null,
   "metadata": {},
   "outputs": [],
   "source": [
    "# another method for list to linked list\n",
    "# head is need for start of linked list\n",
    "head = temp = Node(None)\n",
    "for i in input2 :\n",
    "    if temp.next == None :\n",
    "        temp.next = Node(i)\n",
    "        temp = temp.next\n",
    "\n",
    "#print all value in linked list from head        \n",
    "while head.next != None :\n",
    "    head = head.next\n",
    "    print(head.data)        "
   ]
  },
  {
   "cell_type": "code",
   "execution_count": null,
   "metadata": {},
   "outputs": [],
   "source": []
  },
  {
   "cell_type": "code",
   "execution_count": null,
   "metadata": {},
   "outputs": [],
   "source": []
  },
  {
   "cell_type": "code",
   "execution_count": 9,
   "metadata": {},
   "outputs": [],
   "source": [
    "# make two linked list , and sorting\n",
    "input1 = [1,2,4,5]\n",
    "input2 = [1,3,4]"
   ]
  },
  {
   "cell_type": "code",
   "execution_count": 10,
   "metadata": {},
   "outputs": [],
   "source": [
    "class Node :\n",
    "    def __init__(self, data) :\n",
    "        self.data = data\n",
    "        self.next = None"
   ]
  },
  {
   "cell_type": "code",
   "execution_count": 11,
   "metadata": {},
   "outputs": [],
   "source": [
    "head1 = temp = Node(None)\n",
    "for i in input1 :\n",
    "    if temp.next == None :\n",
    "        temp.next = Node(i)\n",
    "        temp = temp.next "
   ]
  },
  {
   "cell_type": "code",
   "execution_count": 12,
   "metadata": {},
   "outputs": [],
   "source": [
    "head2 = temp = Node(None)\n",
    "for i in input2 :\n",
    "    if temp.next == None :\n",
    "        temp.next = Node(i)\n",
    "        temp = temp.next "
   ]
  },
  {
   "cell_type": "code",
   "execution_count": 13,
   "metadata": {},
   "outputs": [],
   "source": [
    "class Solution:\n",
    "    def mergeTwoLists(self, l1: Node, l2: Node) -> Node:\n",
    "#         temp = l1\n",
    "#         while temp.next != None :\n",
    "#             temp = temp.next\n",
    "#         temp.next = l2\n",
    "        head = local = Node(None)\n",
    "#         while l1.next is not None or l2.next is not None \n",
    "        while True :\n",
    "            if l1.next == None and l2.next ==None :\n",
    "                break\n",
    "            elif l1.next == None :\n",
    "                local.next = Node(l2.next.data)\n",
    "                l2 = l2.next\n",
    "            elif l2.next == None :\n",
    "                local.next = Node(l1.next.data)\n",
    "                l1 = l1.next\n",
    "            else :\n",
    "                if l1.next.data <= l2.next.data :\n",
    "                    local.next = Node(l1.next.data)\n",
    "    #                 if l1.next is not None :\n",
    "                    l1 = l1.next\n",
    "\n",
    "                else :\n",
    "                    local.next = Node(l2.next.data)\n",
    "    #                 if l2.next is not None :\n",
    "                    l2 = l2.next \n",
    "        \n",
    "            local = local.next\n",
    "        return head"
   ]
  },
  {
   "cell_type": "code",
   "execution_count": 16,
   "metadata": {},
   "outputs": [
    {
     "name": "stdout",
     "output_type": "stream",
     "text": [
      "1\n",
      "1\n",
      "2\n",
      "3\n",
      "4\n",
      "4\n",
      "5\n"
     ]
    }
   ],
   "source": [
    "sol = Solution()\n",
    "ret = sol.mergeTwoLists(head1, head2)\n",
    "\n",
    "#checking answer\n",
    "while ret.next != None :\n",
    "    ret = ret.next\n",
    "    print(ret.data)"
   ]
  },
  {
   "cell_type": "code",
   "execution_count": null,
   "metadata": {},
   "outputs": [],
   "source": []
  }
 ],
 "metadata": {
  "kernelspec": {
   "display_name": "Python 3",
   "language": "python",
   "name": "python3"
  },
  "language_info": {
   "codemirror_mode": {
    "name": "ipython",
    "version": 3
   },
   "file_extension": ".py",
   "mimetype": "text/x-python",
   "name": "python",
   "nbconvert_exporter": "python",
   "pygments_lexer": "ipython3",
   "version": "3.6.9"
  }
 },
 "nbformat": 4,
 "nbformat_minor": 4
}
