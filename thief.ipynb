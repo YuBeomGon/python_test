{
 "cells": [
  {
   "cell_type": "code",
   "execution_count": null,
   "metadata": {},
   "outputs": [],
   "source": [
    "# https://programmers.co.kr/learn/courses/30/lessons/42897"
   ]
  },
  {
   "cell_type": "code",
   "execution_count": 113,
   "metadata": {},
   "outputs": [],
   "source": [
    "def solution3(money):\n",
    "#     money.append(0)\n",
    "#     money.insert(0,0)\n",
    "    print(money)\n",
    "    mon1 = [0]* len(money)\n",
    "    mon2 = [0]* len(money)\n",
    "    \n",
    "    mon1[0] = money[0]\n",
    "    mon1[1] = money[1]\n",
    "    for i in range(2, len(money)-1):\n",
    "        mon1[i] = max(mon1[i-2] + money[i], mon1[i-1])\n",
    "        \n",
    "    mon2[0] = money[0]\n",
    "    mon2[1] = money[1]\n",
    "    mon2[2] = max(money[2], money[1])\n",
    "    for i in range(3, len(money)):\n",
    "        mon2[i] = max(mon2[i-2] + money[i], mon2[i-1])        \n",
    "        \n",
    "#     mon[len(money)-1] = max(mon[len(money)-2], mon[len(money)-3] + money[len(money)-1] - money[0] )\n",
    "        \n",
    "    print(mon1)\n",
    "    print(mon2)\n",
    "#     return max(mon)\n",
    "    return max(mon1[-2], mon2[-1])\n",
    "\n"
   ]
  },
  {
   "cell_type": "code",
   "execution_count": 114,
   "metadata": {},
   "outputs": [
    {
     "name": "stdout",
     "output_type": "stream",
     "text": [
      "[1, 2, 2, 1, 5, 1, 4, 9, 1, 2]\n",
      "[1, 2, 3, 3, 8, 8, 12, 17, 17, 0]\n",
      "[1, 2, 2, 3, 7, 7, 11, 16, 16, 18]\n",
      "정답:  18\n"
     ]
    }
   ],
   "source": [
    "money = [1,2,2,1,5,1,4,9,1,2,]\n",
    "print(\"정답: \", solution3(money))"
   ]
  },
  {
   "cell_type": "code",
   "execution_count": 115,
   "metadata": {},
   "outputs": [
    {
     "name": "stdout",
     "output_type": "stream",
     "text": [
      "[3, 2, 2, 1, 2, 6]\n",
      "[3, 2, 5, 5, 7, 0]\n",
      "[3, 2, 2, 3, 4, 9]\n",
      "정답:  9\n",
      "[2, 2, 1, 2, 6]\n",
      "[2, 2, 3, 4, 0]\n",
      "[2, 2, 2, 4, 8]\n",
      "정답:  8\n"
     ]
    }
   ],
   "source": [
    "money = [3,2,2,1,2,6]\n",
    "print(\"정답: \", solution3(money))\n",
    "money = [2,2,1,2,6]\n",
    "print(\"정답: \", solution3(money))"
   ]
  },
  {
   "cell_type": "code",
   "execution_count": 63,
   "metadata": {},
   "outputs": [],
   "source": [
    "# money.insert(0,0)\n",
    "# money"
   ]
  },
  {
   "cell_type": "code",
   "execution_count": 22,
   "metadata": {},
   "outputs": [],
   "source": [
    "# # Fibonacci numbers\n",
    "# # https://shoark7.github.io/programming/algorithm/\n",
    "# def fibonacci(n) :\n",
    "#     cache = [-1 for _ in range(n+2)]\n",
    "#     def cal(n) :\n",
    "#         if n == 1 :\n",
    "#             return 1\n",
    "#         if n == 2 :\n",
    "#             return 1\n",
    "#         if cache[n] == -1 :\n",
    "#             cache[n] = cal(n-1) + cal(n-2)\n",
    "#             return cache[n]\n",
    "#         else :\n",
    "#             return cache[n]\n",
    "        \n",
    "#     return cal(n)\n",
    "# fibonacci(100)        "
   ]
  },
  {
   "cell_type": "code",
   "execution_count": 33,
   "metadata": {},
   "outputs": [
    {
     "data": {
      "text/plain": [
       "354224848179261915075"
      ]
     },
     "execution_count": 33,
     "metadata": {},
     "output_type": "execute_result"
    }
   ],
   "source": [
    "# def fibo(n, __cache={0: 0, 1: 1}):\n",
    "#     \"\"\"Get nth fibonacci number\"\"\"\n",
    "#     if n in __cache:\n",
    "#         return __cache[n]\n",
    "\n",
    "#     __cache[n] = fibo(n-1) + fibo(n-2)\n",
    "#     return __cache[n]\n",
    "\n",
    "\n",
    "# fibo(100)"
   ]
  },
  {
   "cell_type": "code",
   "execution_count": null,
   "metadata": {},
   "outputs": [],
   "source": []
  }
 ],
 "metadata": {
  "kernelspec": {
   "display_name": "Python 3",
   "language": "python",
   "name": "python3"
  },
  "language_info": {
   "codemirror_mode": {
    "name": "ipython",
    "version": 3
   },
   "file_extension": ".py",
   "mimetype": "text/x-python",
   "name": "python",
   "nbconvert_exporter": "python",
   "pygments_lexer": "ipython3",
   "version": "3.6.9"
  }
 },
 "nbformat": 4,
 "nbformat_minor": 4
}
