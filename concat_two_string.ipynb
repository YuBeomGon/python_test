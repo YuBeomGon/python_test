{
 "cells": [
  {
   "cell_type": "code",
   "execution_count": null,
   "metadata": {},
   "outputs": [],
   "source": [
    "#  two number is input\n",
    "# for example 3, 5\n",
    "# need to make abbabbab, abaabaab, ...etc no more than 3 consecutive letter\n",
    "# return any of this, any is important"
   ]
  },
  {
   "cell_type": "code",
   "execution_count": 17,
   "metadata": {},
   "outputs": [],
   "source": [
    "def mergeTwoLists(A , B) -> str:\n",
    "    \n",
    "    string = ''\n",
    "    if A == B :\n",
    "        for i in range(0, A) :\n",
    "            string = string + 'ab'\n",
    "    elif A > B :\n",
    "        diff = A - B \n",
    "        while diff != 0 :\n",
    "            string = string + 'aab'\n",
    "            A = A - 2\n",
    "#             B = B - 1\n",
    "#             diff = A - B\n",
    "            diff = diff -1\n",
    "        for i in range(0, A) :\n",
    "            string = string + 'ab'\n",
    "            \n",
    "    else : # A < B\n",
    "        diff = B - A\n",
    "        while diff != 0 :\n",
    "            string = string + 'bba'\n",
    "#             A = A - 1\n",
    "            B = B - 2\n",
    "#             diff = B - A\n",
    "            diff = diff - 1\n",
    "        for i in range(0, B) :\n",
    "            string = string + 'ba'\n",
    "            \n",
    "    return string\n",
    "#     pass"
   ]
  },
  {
   "cell_type": "code",
   "execution_count": 18,
   "metadata": {},
   "outputs": [
    {
     "data": {
      "text/plain": [
       "'bbabbabba'"
      ]
     },
     "execution_count": 18,
     "metadata": {},
     "output_type": "execute_result"
    }
   ],
   "source": [
    "mergeTwoLists(3,6)"
   ]
  },
  {
   "cell_type": "code",
   "execution_count": 21,
   "metadata": {},
   "outputs": [
    {
     "data": {
      "text/plain": [
       "'aabaababab'"
      ]
     },
     "execution_count": 21,
     "metadata": {},
     "output_type": "execute_result"
    }
   ],
   "source": [
    "mergeTwoLists(6,4)"
   ]
  },
  {
   "cell_type": "code",
   "execution_count": 22,
   "metadata": {},
   "outputs": [
    {
     "data": {
      "text/plain": [
       "'ababab'"
      ]
     },
     "execution_count": 22,
     "metadata": {},
     "output_type": "execute_result"
    }
   ],
   "source": [
    "mergeTwoLists(3,3)"
   ]
  },
  {
   "cell_type": "code",
   "execution_count": null,
   "metadata": {},
   "outputs": [],
   "source": []
  }
 ],
 "metadata": {
  "kernelspec": {
   "display_name": "Python 3",
   "language": "python",
   "name": "python3"
  },
  "language_info": {
   "codemirror_mode": {
    "name": "ipython",
    "version": 3
   },
   "file_extension": ".py",
   "mimetype": "text/x-python",
   "name": "python",
   "nbconvert_exporter": "python",
   "pygments_lexer": "ipython3",
   "version": "3.6.9"
  }
 },
 "nbformat": 4,
 "nbformat_minor": 4
}
