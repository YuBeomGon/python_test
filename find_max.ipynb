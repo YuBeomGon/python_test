{
 "cells": [
  {
   "cell_type": "code",
   "execution_count": null,
   "metadata": {},
   "outputs": [],
   "source": [
    "# 문제 설명\n",
    "# 0, or  자연수를 이어 붙여 만들 수 있는 가장 큰 수는 ?.\n",
    "\n",
    "# for example [6, 10, 3]라면 [6103, 6230, 1063, 1023, 3610, 3106]를 만들 수 있고, 이중 가장 큰 수는 6310입니다.\n",
    "\n",
    "# 0 또는 양의 정수가 담긴 배열 numbers가 매개변수로 주어질 때, 순서를 재배치하여 만들 수 있는 가장 큰 수를 문자열로 바꾸어 return 하도록 solution 함수를 작성해주세요.\n",
    "\n",
    "# 제한 사항\n",
    "# numbers의 길이는 1 이상 100,000 이하입니다.\n",
    "# numbers의 원소는 0 이상 1,000 이하입니다.\n",
    "# 정답이 너무 클 수 있으니 문자열로 바꾸어 return 합니다."
   ]
  },
  {
   "cell_type": "code",
   "execution_count": null,
   "metadata": {},
   "outputs": [],
   "source": [
    "# first sorting all numbers in list, but change checking condition"
   ]
  },
  {
   "cell_type": "code",
   "execution_count": 138,
   "metadata": {},
   "outputs": [],
   "source": [
    "def solution(numbers):\n",
    "    array = []\n",
    "    for i in numbers :\n",
    "        array.append(str(i))\n",
    "    answer = quick_sort(array)\n",
    "    print(answer)\n",
    "    return ''.join(answer)"
   ]
  },
  {
   "cell_type": "code",
   "execution_count": 139,
   "metadata": {},
   "outputs": [],
   "source": [
    "# def check_digit(num) :\n",
    "#     if num <10 :\n",
    "#         return 1\n",
    "#     elif num < 100 :\n",
    "#         return 2\n",
    "#     elif num < 1000 :\n",
    "#         return 3\n",
    "#     else :\n",
    "#         return 4\n",
    "\n",
    "def check_num(n, p, Flag=False) :\n",
    "    if n[0] == '-':\n",
    "        Flag = True\n",
    "    elif p[0] == '-':\n",
    "        Flag = False\n",
    "    elif n[0] > p[0] :\n",
    "        Flag = True\n",
    "    elif n[0] < p[0] :\n",
    "        Flag = False\n",
    "    else :\n",
    "        Flag = check_num(n[1:], p[1:], Flag)\n",
    "        \n",
    "    return Flag"
   ]
  },
  {
   "cell_type": "code",
   "execution_count": 140,
   "metadata": {},
   "outputs": [],
   "source": [
    "# from quick_sort import quick_sort\n",
    "def quick_sort(A :list) -> list:\n",
    "#     print(A)\n",
    "    if len(A) <= 1:\n",
    "        return A    \n",
    "    pivot = A[len(A) // 2]\n",
    "    print(pivot)\n",
    "    \n",
    "    less_arr, eq_arr, gr_arr = [], [], []\n",
    "    for num in A :\n",
    "        if num == pivot :\n",
    "            eq_arr.append(num)\n",
    "        else :\n",
    "            n = (num) + '-'*(4 - len((num)))\n",
    "            p = (pivot) + '-'*(4-len((pivot))) \n",
    "#             print(check_num(n,p))\n",
    "            if check_num(n,p) :\n",
    "                gr_arr.append(num)\n",
    "            else :\n",
    "                less_arr.append(num)\n",
    "#     print(gr_arr)\n",
    "#     print(eq_arr)\n",
    "#     print(less_arr)\n",
    "\n",
    "    return quick_sort(gr_arr) + eq_arr + quick_sort(less_arr)"
   ]
  },
  {
   "cell_type": "code",
   "execution_count": 141,
   "metadata": {},
   "outputs": [
    {
     "name": "stdout",
     "output_type": "stream",
     "text": [
      "90\n",
      "99\n",
      "89\n",
      "4\n",
      "2\n",
      "1000\n",
      "['9', '99', '90', '900', '89', '4', '2', '1', '1000']\n"
     ]
    },
    {
     "data": {
      "text/plain": [
       "'99990900894211000'"
      ]
     },
     "execution_count": 141,
     "metadata": {},
     "output_type": "execute_result"
    }
   ],
   "source": [
    "A = [1, 2, 4 , 9, 90, 89, 900, 1000, 99]\n",
    "solution(A)"
   ]
  },
  {
   "cell_type": "code",
   "execution_count": 133,
   "metadata": {},
   "outputs": [
    {
     "data": {
      "text/plain": [
       "'12'"
      ]
     },
     "execution_count": 133,
     "metadata": {},
     "output_type": "execute_result"
    }
   ],
   "source": [
    "''.join(['1', '2'])"
   ]
  },
  {
   "cell_type": "code",
   "execution_count": null,
   "metadata": {},
   "outputs": [],
   "source": []
  },
  {
   "cell_type": "code",
   "execution_count": null,
   "metadata": {},
   "outputs": [],
   "source": []
  },
  {
   "cell_type": "code",
   "execution_count": 126,
   "metadata": {},
   "outputs": [
    {
     "name": "stdout",
     "output_type": "stream",
     "text": [
      "hi\n"
     ]
    }
   ],
   "source": [
    "if '2' > '*' :\n",
    "    print('hi')"
   ]
  },
  {
   "cell_type": "code",
   "execution_count": null,
   "metadata": {},
   "outputs": [],
   "source": []
  },
  {
   "cell_type": "code",
   "execution_count": 95,
   "metadata": {},
   "outputs": [
    {
     "data": {
      "text/plain": [
       "True"
      ]
     },
     "execution_count": 95,
     "metadata": {},
     "output_type": "execute_result"
    }
   ],
   "source": []
  },
  {
   "cell_type": "code",
   "execution_count": 96,
   "metadata": {},
   "outputs": [
    {
     "data": {
      "text/plain": [
       "True"
      ]
     },
     "execution_count": 96,
     "metadata": {},
     "output_type": "execute_result"
    }
   ],
   "source": []
  },
  {
   "cell_type": "code",
   "execution_count": null,
   "metadata": {},
   "outputs": [],
   "source": []
  }
 ],
 "metadata": {
  "kernelspec": {
   "display_name": "Python 3",
   "language": "python",
   "name": "python3"
  },
  "language_info": {
   "codemirror_mode": {
    "name": "ipython",
    "version": 3
   },
   "file_extension": ".py",
   "mimetype": "text/x-python",
   "name": "python",
   "nbconvert_exporter": "python",
   "pygments_lexer": "ipython3",
   "version": "3.6.9"
  }
 },
 "nbformat": 4,
 "nbformat_minor": 4
}
