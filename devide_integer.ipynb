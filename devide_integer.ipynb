{
 "cells": [
  {
   "cell_type": "code",
   "execution_count": null,
   "metadata": {},
   "outputs": [],
   "source": [
    "# # https://leetcode.com/problems/divide-two-integers/\n",
    "# Given two integers dividend and divisor, divide two integers without using multiplication, division and mod operator.\n",
    "\n",
    "# Return the quotient after dividing dividend by divisor.\n",
    "\n",
    "# The integer division should truncate toward zero, which means losing its fractional part. For example, truncate(8.345) = 8 and truncate(-2.7335) = -2.\n",
    "\n",
    "# Input: dividend = 10, divisor = 3\n",
    "# Output: 3\n",
    "# Explanation: 10/3 = truncate(3.33333..) = 3.\n",
    "    \n",
    "# Input: dividend = 7, divisor = -3\n",
    "# Output: -2\n",
    "# Explanation: 7/-3 = truncate(-2.33333..) = -2.    "
   ]
  },
  {
   "cell_type": "code",
   "execution_count": 17,
   "metadata": {},
   "outputs": [],
   "source": [
    "def divide(dividend: int, divisor: int) -> int:\n",
    "    d1_sign = True\n",
    "    d2_sign = True\n",
    "    count = 0\n",
    "    if dividend < 0 :\n",
    "        d1_sign = False\n",
    "        dividend = -dividend\n",
    "    if divisor < 0 :\n",
    "        d2_sign = False\n",
    "        divisor = -divisor\n",
    "    \n",
    "    if dividend < divisor :\n",
    "        return 0\n",
    "    else :\n",
    "        while dividend >= divisor :\n",
    "            count = count + 1\n",
    "            dividend = dividend - divisor\n",
    "        if (d1_sign == True and d2_sign == False ) or (d1_sign == False and d2_sign == True) :# diff sign\n",
    "            count = -count\n",
    "            \n",
    "        return count\n",
    "#     pass"
   ]
  },
  {
   "cell_type": "code",
   "execution_count": 19,
   "metadata": {},
   "outputs": [
    {
     "data": {
      "text/plain": [
       "-5"
      ]
     },
     "execution_count": 19,
     "metadata": {},
     "output_type": "execute_result"
    }
   ],
   "source": [
    "divide(50,-10)"
   ]
  },
  {
   "cell_type": "code",
   "execution_count": 2,
   "metadata": {},
   "outputs": [
    {
     "data": {
      "text/plain": [
       "-1"
      ]
     },
     "execution_count": 2,
     "metadata": {},
     "output_type": "execute_result"
    }
   ],
   "source": [
    "b"
   ]
  },
  {
   "cell_type": "code",
   "execution_count": null,
   "metadata": {},
   "outputs": [],
   "source": []
  }
 ],
 "metadata": {
  "kernelspec": {
   "display_name": "Python 3",
   "language": "python",
   "name": "python3"
  },
  "language_info": {
   "codemirror_mode": {
    "name": "ipython",
    "version": 3
   },
   "file_extension": ".py",
   "mimetype": "text/x-python",
   "name": "python",
   "nbconvert_exporter": "python",
   "pygments_lexer": "ipython3",
   "version": "3.6.9"
  }
 },
 "nbformat": 4,
 "nbformat_minor": 4
}
